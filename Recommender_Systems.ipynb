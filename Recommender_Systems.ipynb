{
  "cells": [
    {
      "cell_type": "markdown",
      "metadata": {
        "id": "view-in-github",
        "colab_type": "text"
      },
      "source": [
        "<a href=\"https://colab.research.google.com/github/Anujp87/Data-Analysis-python/blob/main/Recommender_Systems.ipynb\" target=\"_parent\"><img src=\"https://colab.research.google.com/assets/colab-badge.svg\" alt=\"Open In Colab\"/></a>"
      ]
    },
    {
      "cell_type": "markdown",
      "metadata": {
        "id": "nIa5e5t9rtA6"
      },
      "source": [
        "## Recommender System\n",
        "In this example, we will develop a simple recommendation systems using pandas by suggesting items that are most similar to an item you choose. This is not a truly robust recommendation system - it merely shows what items are most similar to your item choice.\n",
        " "
      ]
    },
    {
      "cell_type": "code",
      "execution_count": null,
      "metadata": {
        "id": "RO72QjP4rtA8"
      },
      "outputs": [],
      "source": [
        "# All we need are these two, no scikit necessary\n",
        "import numpy as np\n",
        "import pandas as pd"
      ]
    },
    {
      "cell_type": "code",
      "execution_count": null,
      "metadata": {
        "id": "1liavLzZrtA-"
      },
      "outputs": [],
      "source": [
        "df = pd.read_excel('movieData.xlsx')"
      ]
    },
    {
      "cell_type": "code",
      "execution_count": null,
      "metadata": {
        "id": "QbtKGySortA_"
      },
      "outputs": [],
      "source": [
        "df.head()"
      ]
    },
    {
      "cell_type": "code",
      "execution_count": null,
      "metadata": {
        "id": "FH-Ui9FLrtBA"
      },
      "outputs": [],
      "source": [
        "#get the movie titiles\n",
        "movie_titles = pd.read_excel(\"MovieTitles.xlsx\")\n",
        "movie_titles.head()"
      ]
    },
    {
      "cell_type": "code",
      "execution_count": null,
      "metadata": {
        "id": "1c7_ISrDrtBB"
      },
      "outputs": [],
      "source": [
        "#Here is how we \"join\" two tables in Python\n",
        "df = pd.merge(df,movie_titles,on='itemID')\n",
        "df.head()"
      ]
    },
    {
      "cell_type": "code",
      "execution_count": null,
      "metadata": {
        "id": "UNnVhAXArtBC"
      },
      "outputs": [],
      "source": [
        "#Time for some visualization\n",
        "import matplotlib.pyplot as plt\n",
        "import seaborn as sns\n",
        "sns.set_style('white')\n",
        "%matplotlib inline"
      ]
    },
    {
      "cell_type": "code",
      "execution_count": null,
      "metadata": {
        "id": "sGucujNertBD"
      },
      "outputs": [],
      "source": [
        "#Can you see what I am trying to do here?\n",
        "ratings = pd.DataFrame(df.groupby('Title')['Rating'].mean())\n",
        "ratings.head()"
      ]
    },
    {
      "cell_type": "code",
      "execution_count": null,
      "metadata": {
        "id": "53avIRm8rtBF"
      },
      "outputs": [],
      "source": [
        "# One more practice of the \"groupby\" method\n",
        "ratings['Number of Ratings'] = pd.DataFrame(df.groupby('Title')['Rating'].count())\n",
        "ratings.head()"
      ]
    },
    {
      "cell_type": "code",
      "execution_count": null,
      "metadata": {
        "id": "Wj2GOE1qrtBG"
      },
      "outputs": [],
      "source": [
        "#Some histograms \n",
        "ratings['Number of Ratings'].hist(bins=15)"
      ]
    },
    {
      "cell_type": "code",
      "execution_count": null,
      "metadata": {
        "id": "koZSR9Y4rtBH"
      },
      "outputs": [],
      "source": [
        "#If it is too small, you can customize the figure size\n",
        "plt.figure(figsize=(15,6))\n",
        "ratings['Number of Ratings'].hist(bins=15)"
      ]
    },
    {
      "cell_type": "code",
      "execution_count": null,
      "metadata": {
        "id": "NVjjIqeurtBI"
      },
      "outputs": [],
      "source": [
        "#Let's make a histogram about the Rating now:\n"
      ]
    },
    {
      "cell_type": "code",
      "execution_count": null,
      "metadata": {
        "id": "7DytetJvrtBJ"
      },
      "outputs": [],
      "source": [
        "# Now a scatter plot:\n",
        "plt.figure(figsize=(10,10))\n",
        "sns.scatterplot(x='Rating',y='Number of Ratings',data=ratings)"
      ]
    },
    {
      "cell_type": "markdown",
      "metadata": {
        "id": "ZnVD1ymhrtBK"
      },
      "source": [
        "For the recommender system to work, we need a product-customer matrix (remember the wine data?) \n",
        "We will create a matrix that has the user ids on one axis and the movie title on another axis. \n",
        "Each cell will then be the rating the user gave to that movie. Note there will be a lot of NaN values, because most people have not seen most of the movies."
      ]
    },
    {
      "cell_type": "code",
      "execution_count": null,
      "metadata": {
        "id": "FJD3IUF3rtBL"
      },
      "outputs": [],
      "source": [
        "moviemat = df.pivot_table(index='UserID',columns='Title',values='Rating')\n",
        "moviemat.head()"
      ]
    },
    {
      "cell_type": "code",
      "execution_count": null,
      "metadata": {
        "id": "Nz_G_mTGrtBM"
      },
      "outputs": [],
      "source": [
        "#Let's take a look at two movies:\n",
        "df[df.Title == ('Titanic (1997)')]\n",
        "df[df.Title == ('Forrest Gump (1994)')]"
      ]
    },
    {
      "cell_type": "code",
      "execution_count": null,
      "metadata": {
        "id": "E031HuWartBN"
      },
      "outputs": [],
      "source": [
        "rating1 = moviemat['Titanic (1997)']\n",
        "rating2 = moviemat['Forrest Gump (1994)']\n",
        "print(rating1.head())\n",
        "type(rating1)"
      ]
    },
    {
      "cell_type": "code",
      "execution_count": null,
      "metadata": {
        "id": "FEdlKjTHrtBO"
      },
      "outputs": [],
      "source": [
        "#Step 1: Use corrwith() method to get correlations between two pandas series\n",
        "similar_to_Titanic = moviemat.corrwith(rating1)\n",
        "similar_to_Forrest = moviemat.corrwith(rating2)"
      ]
    },
    {
      "cell_type": "code",
      "execution_count": null,
      "metadata": {
        "id": "9fSDBz6zrtBP"
      },
      "outputs": [],
      "source": [
        "print(similar_to_Titanic)\n",
        "type(similar_to_Titanic)"
      ]
    },
    {
      "cell_type": "code",
      "execution_count": null,
      "metadata": {
        "id": "xYnBRdOirtBQ"
      },
      "outputs": [],
      "source": [
        "#Step 2: Remove all the na's\n",
        "corr_Titanic = pd.DataFrame(similar_to_Titanic,columns=['Correlation'])\n",
        "corr_Titanic.dropna(inplace=True)\n",
        "print(corr_Titanic.head(20))\n",
        "\n",
        "corr_Forrest = pd.DataFrame(similar_to_Forrest,columns=['Correlation'])\n",
        "corr_Forrest.dropna(inplace=True)\n",
        "print(corr_Forrest.head(20))"
      ]
    },
    {
      "cell_type": "code",
      "execution_count": null,
      "metadata": {
        "id": "TeyArFhyrtBR"
      },
      "outputs": [],
      "source": [
        "#Step 3: Check the results \n",
        "corr_Titanic.sort_values('Correlation',ascending=False).head(10)\n",
        "# Why?"
      ]
    },
    {
      "cell_type": "code",
      "execution_count": null,
      "metadata": {
        "id": "GUTTwu7lrtBR"
      },
      "outputs": [],
      "source": [
        "corr_Titanic = corr_Titanic.join(ratings['Number of Ratings'])\n",
        "corr_Titanic.head()"
      ]
    },
    {
      "cell_type": "code",
      "execution_count": null,
      "metadata": {
        "id": "bXFNEd3SrtBS"
      },
      "outputs": [],
      "source": [
        "corr_Titanic[corr_Titanic['Number of Ratings']>100].sort_values('Correlation',ascending=False).head(20)"
      ]
    },
    {
      "cell_type": "code",
      "execution_count": null,
      "metadata": {
        "id": "Jq0r2rJ6rtBT"
      },
      "outputs": [],
      "source": [
        "corr_Forrest = corr_Forrest.join(ratings['Number of Ratings'])\n",
        "corr_Forrest.head()\n",
        "corr_Forrest[corr_Forrest['Number of Ratings']>100].sort_values('Correlation',ascending=False).head(20)"
      ]
    },
    {
      "cell_type": "code",
      "execution_count": null,
      "metadata": {
        "id": "sw_yFI9ErtBU"
      },
      "outputs": [],
      "source": []
    }
  ],
  "metadata": {
    "kernelspec": {
      "display_name": "Python 3",
      "language": "python",
      "name": "python3"
    },
    "language_info": {
      "codemirror_mode": {
        "name": "ipython",
        "version": 3
      },
      "file_extension": ".py",
      "mimetype": "text/x-python",
      "name": "python",
      "nbconvert_exporter": "python",
      "pygments_lexer": "ipython3",
      "version": "3.7.4"
    },
    "colab": {
      "provenance": [],
      "include_colab_link": true
    }
  },
  "nbformat": 4,
  "nbformat_minor": 0
}